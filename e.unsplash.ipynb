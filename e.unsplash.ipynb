{
 "cells": [
  {
   "cell_type": "code",
   "execution_count": 1,
   "metadata": {},
   "outputs": [
    {
     "name": "stdout",
     "output_type": "stream",
     "text": [
      "[{'slug': 'laptop computer beside coffee mug', 'urls': 'https://images.unsplash.com/photo-1484788984921-03950022c9ef?ixid=M3wxMjA3fDB8MXxzZWFyY2h8Mnx8bGFwdG9wfGVufDB8fHx8MTcyMjMzMjkzOXww&ixlib=rb-4.0.3'}, {'slug': 'person using MacBook', 'urls': 'https://images.unsplash.com/photo-1499914485622-a88fac536970?ixid=M3wxMjA3fDB8MXxzZWFyY2h8M3x8bGFwdG9wfGVufDB8fHx8MTcyMjMzMjkzOXww&ixlib=rb-4.0.3'}]\n"
     ]
    }
   ],
   "source": [
    "import requests as req\n",
    "import os\n",
    "\n",
    "def get_results(response, watermark, number_of_images   , cont, per_page, page, query):\n",
    "    # print(\"hg\",len(cont))\n",
    "    for ind,i in enumerate(response[\"results\"]):\n",
    "        if len(cont) >= number_of_images:\n",
    "            return cont\n",
    "        else:\n",
    "            if watermark:\n",
    "                cont.append({\"slug\": i[\"alt_description\"], \"urls\": i[\"urls\"][\"raw\"]})\n",
    "                \n",
    "            else:\n",
    "                image_url = i[\"urls\"][\"raw\"]\n",
    "                if \"premium\" in image_url:\n",
    "                    continue\n",
    "                else:\n",
    "                    cont.append({\"slug\": i[\"alt_description\"], \"urls\": i[\"urls\"][\"raw\"]})\n",
    "                \n",
    "            # if len(cont) == len(response[\"results\"]):\n",
    "    page += 1\n",
    "    # print(len(cont), len(response[\"results\"]))\n",
    "    response_generator(query, watermark, number_of_images,per_page=per_page, page=page , cont=cont)\n",
    "    # print(\"i quit\", len(cont))\n",
    "    return cont\n",
    "\n",
    "def response_generator(query, watermark, number_of_images, per_page=20, page=1, cont=[]):\n",
    "    url =f\"https://unsplash.com/napi/search/photos?page={page}&per_page={per_page}&query={query}&xp=search-hyperloop:control\"\n",
    "    import requests\n",
    "\n",
    "\n",
    "    payload = {}\n",
    "    headers = {\n",
    "    'User-Agent': 'Mozilla/5.0 (Windows NT 10.0; Win64; x64; rv:128.0) Gecko/20100101 Firefox/128.0',\n",
    "    'Accept': '*/*',\n",
    "    'Accept-Language': 'en-US',\n",
    "    'Accept-Encoding': 'gzip, deflate, br, zstd',\n",
    "    'Referer': f'https://unsplash.com/s/photos/{query}',\n",
    "    'DNT': '1',\n",
    "    'Sec-GPC': '1',\n",
    "    'Sec-Fetch-Dest': 'empty',\n",
    "    'Sec-Fetch-Mode': 'cors',\n",
    "    'Sec-Fetch-Site': 'same-origin',\n",
    "    'Connection': 'keep-alive',\n",
    "    'Cookie': 'require_cookie_consent=false; xp-neutral-affiliate-copy=plus-affiliates; xp-price-experiment=variant-1; xp-search-hyperloop=control; _sp_id.0295=d8ad5e3a-4668-420a-b18d-746a4740012a.1719722995.9.1719764613.1719758293.27a76ea9-0da4-413d-af5e-1e8c1632c775.487141ac-be16-48d4-b06a-0d8702869153.e53c3c06-6b34-4197-a866-309d43e91772.1719764576182.20; uuid=31e53e00-369c-11ef-97e7-a1da83c6bd8f; azk=31e53e00-369c-11ef-97e7-a1da83c6bd8f; azk-ss=true; _dd_s=logs=1&id=6fe98f8c-d7a1-4522-b1ef-c899ed118676&created=1719764576025&expire=1719765512588; _sp_ses.0295=*',\n",
    "    'Priority': 'u=0',\n",
    "    'TE': 'trailers'\n",
    "    }\n",
    "\n",
    "    response = req.get(url, headers=headers, data=payload).json()\n",
    "    # print(len(cont))\n",
    "    return get_results(response, watermark, number_of_images, cont, per_page, page, query)\n",
    "    \n",
    "\n",
    "list_of_images_and_slug = response_generator(\"laptop\", False, 2)\n",
    "print(list_of_images_and_slug)\n",
    "\n",
    "for i in list_of_images_and_slug:\n",
    "    res = req.get(i[\"urls\"])\n",
    "    if not os.path.exists(\"folder\"):\n",
    "        os.makedirs(\"folder\")\n",
    "    with open(f\"folder/{i['slug']}.jpeg\", \"wb\") as f:\n",
    "        f.write(res.content)"
   ]
  },
  {
   "cell_type": "code",
   "execution_count": 2,
   "metadata": {},
   "outputs": [],
   "source": [
    "import httpx\n",
    "import logging\n",
    "from selectolax.parser import HTMLParser\n",
    "url = \"https://unsplash.com/s/photos/{query}\"\n",
    "headers = {}\n",
    "params = {}\n",
    "payload = {}\n",
    "cont = HTMLParser(httpx.get(url, headers=headers, params=params).content)\n",
    "# display(httpx.get(url, headers=headers, params=params).content)\n",
    "img_urls = [i.attributes[\"src\"] for i in cont.css(\"figure a[title] img[alt][src] \")]\n",
    "\n"
   ]
  },
  {
   "cell_type": "code",
   "execution_count": 3,
   "metadata": {},
   "outputs": [],
   "source": [
    "import os\n",
    "def save_images(img_urls, dest_dir = \"images\",  tag=\"\"):\n",
    "    for url in img_urls:\n",
    "        res = req.get(url)\n",
    "        file_name = url.split(\"/\")[-1].replace(\"&\",\"\").replace(\"?\",\"\").replace(\"%\",\"\").replace(\"=\",\"\")\n",
    "        if not os.path.exists(dest_dir):\n",
    "            os.makedirs(dest_dir)\n",
    "        with open(f\"{dest_dir}/{tag}_{file_name}.jpeg\", \"wb\") as f:\n",
    "            f.write(res.content)\n",
    "\n",
    "\n",
    "\n",
    "\n",
    "\n",
    "save_images(img_urls, \"images\", \"laptops\")"
   ]
  }
 ],
 "metadata": {
  "kernelspec": {
   "display_name": "base",
   "language": "python",
   "name": "python3"
  },
  "language_info": {
   "codemirror_mode": {
    "name": "ipython",
    "version": 3
   },
   "file_extension": ".py",
   "mimetype": "text/x-python",
   "name": "python",
   "nbconvert_exporter": "python",
   "pygments_lexer": "ipython3",
   "version": "3.11.7"
  }
 },
 "nbformat": 4,
 "nbformat_minor": 2
}
